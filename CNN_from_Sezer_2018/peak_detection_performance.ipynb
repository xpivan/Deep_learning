{
 "cells": [
  {
   "cell_type": "markdown",
   "metadata": {},
   "source": [
    "# Pythonic vs classical coding\n",
    "\n",
    "In this notebook, we demonstrate the power of python's framework Pandas against a \"classical\" coding. The classical coding consists to code as if Python was a low level language, like C. We demonstrate here that coding correctly with python can accelerate a simple code more than 50 times faster."
   ]
  },
  {
   "cell_type": "code",
   "execution_count": 1,
   "metadata": {},
   "outputs": [],
   "source": [
    "import pandas as pd\n",
    "import numpy as np\n",
    "import datetime\n",
    "from IPython.core.debugger import set_trace"
   ]
  },
  {
   "cell_type": "code",
   "execution_count": 2,
   "metadata": {},
   "outputs": [],
   "source": [
    "PATH_DATA = '/Users/xavier/Projets/crypto/data/'\n",
    "\n",
    "path_data = PATH_DATA+'binance/4hour/BTCUSDT_4hour.csv'\n",
    "\n",
    "data = pd.read_csv(path_data)"
   ]
  },
  {
   "cell_type": "markdown",
   "metadata": {},
   "source": [
    "## Classic way of coding:"
   ]
  },
  {
   "cell_type": "code",
   "execution_count": 3,
   "metadata": {},
   "outputs": [],
   "source": [
    "def create_labels(df, col_name, window_size=11):\n",
    "    \"\"\"\n",
    "    Data is labeled as per the logic in research paper\n",
    "    Label code : BUY => 1, SELL => 0, HOLD => 2\n",
    "    params :\n",
    "        df => Dataframe with data\n",
    "        col_name => name of column which should be used to determine strategy\n",
    "    returns : numpy array with integer codes for labels with\n",
    "              size = total-(window_size)+1\n",
    "    \"\"\"\n",
    "\n",
    "    row_counter = 0\n",
    "    total_rows = len(df)\n",
    "    labels = np.zeros(total_rows)\n",
    "    labels[:] = np.nan\n",
    "    print(\"Calculating labels\")\n",
    "\n",
    "    while row_counter < total_rows:\n",
    "        if row_counter >= window_size - 1:\n",
    "            window_begin = row_counter - (window_size - 1)\n",
    "            window_end = row_counter\n",
    "            window_middle = (window_begin + window_end) / 2\n",
    "\n",
    "            min_ = np.inf\n",
    "            min_index = -1\n",
    "            max_ = -np.inf\n",
    "            max_index = -1\n",
    "            for i in range(window_begin, window_end + 1):\n",
    "                price = df.iloc[i][col_name]\n",
    "                if price < min_:\n",
    "                    min_ = price\n",
    "                    min_index = i\n",
    "                if price > max_:\n",
    "                    max_ = price\n",
    "                    max_index = i\n",
    "\n",
    "            if max_index == window_middle:\n",
    "                labels[int(window_middle)] = 0\n",
    "            elif min_index == window_middle:\n",
    "                labels[int(window_middle)] = 1\n",
    "            else:\n",
    "                labels[int(window_middle)] = 2\n",
    "\n",
    "        row_counter = row_counter + 1\n",
    "\n",
    "    return labels"
   ]
  },
  {
   "cell_type": "markdown",
   "metadata": {},
   "source": [
    "## \"Pythonic\" code:"
   ]
  },
  {
   "cell_type": "code",
   "execution_count": 4,
   "metadata": {},
   "outputs": [],
   "source": [
    "def get_peak(func):\n",
    "    def algo(data, window):\n",
    "        max_local = func(data, window)\n",
    "        max_local = np.asarray(max_local)\n",
    "        max_local_valid = np.where(max_local==int(window/2))[0]\n",
    "        return max_local_valid\n",
    "    return algo\n",
    "    \n",
    "@get_peak\n",
    "def get_max_peak(data, window):\n",
    "    return data.rolling(window, center=True).apply(lambda x: np.where(x==np.max(x))[0][0], raw=True)\n",
    "\n",
    "@get_peak\n",
    "def get_min_peak(data, window):\n",
    "    return data.rolling(window, center=True).apply(lambda x: np.where(x==np.min(x))[0][0], raw=True)\n",
    "\n",
    "def return_min_max_peak(data, window=14):\n",
    "    i_x = get_max_peak(data['close'], window) #i_x stands for Index_maX\n",
    "    i_n = get_min_peak(data['close'], window) #i_n stands for Index_miN\n",
    "    return (i_x,i_n)"
   ]
  },
  {
   "cell_type": "markdown",
   "metadata": {},
   "source": [
    "### We now test the performance for the two algorithms\n",
    "\n",
    "First we test the classic method to code, using loops:"
   ]
  },
  {
   "cell_type": "code",
   "execution_count": 5,
   "metadata": {},
   "outputs": [
    {
     "name": "stdout",
     "output_type": "stream",
     "text": [
      "Calculating labels\n"
     ]
    }
   ],
   "source": [
    "begin_time = datetime.datetime.now()\n",
    "label = create_labels(data, 'close') \n",
    "end_time = datetime.datetime.now()\n",
    "time_classic = end_time-begin_time"
   ]
  },
  {
   "cell_type": "code",
   "execution_count": 6,
   "metadata": {},
   "outputs": [
    {
     "data": {
      "text/plain": [
       "datetime.timedelta(seconds=6, microseconds=441868)"
      ]
     },
     "execution_count": 6,
     "metadata": {},
     "output_type": "execute_result"
    }
   ],
   "source": [
    "time_classic"
   ]
  },
  {
   "cell_type": "code",
   "execution_count": 7,
   "metadata": {},
   "outputs": [],
   "source": [
    "begin_time = datetime.datetime.now()\n",
    "label = np.zeros(len(data))\n",
    "i_x, i_n = return_min_max_peak(data,window=11)\n",
    "label[i_x]=1\n",
    "label[i_n]=2\n",
    "end_time = datetime.datetime.now()\n",
    "time_pythonic = end_time-begin_time"
   ]
  },
  {
   "cell_type": "code",
   "execution_count": 8,
   "metadata": {},
   "outputs": [
    {
     "data": {
      "text/plain": [
       "datetime.timedelta(microseconds=109017)"
      ]
     },
     "execution_count": 8,
     "metadata": {},
     "output_type": "execute_result"
    }
   ],
   "source": [
    "time_pythonic"
   ]
  },
  {
   "cell_type": "code",
   "execution_count": 9,
   "metadata": {},
   "outputs": [
    {
     "data": {
      "text/plain": [
       "59.090490473962774"
      ]
     },
     "execution_count": 9,
     "metadata": {},
     "output_type": "execute_result"
    }
   ],
   "source": [
    "time_classic/time_pythonic"
   ]
  },
  {
   "cell_type": "markdown",
   "metadata": {},
   "source": [
    "## Conclusion\n",
    "\n",
    "Using pandas framework is about more than 50 times faster than using loops."
   ]
  }
 ],
 "metadata": {
  "kernelspec": {
   "display_name": "Python 3",
   "language": "python",
   "name": "python3"
  },
  "language_info": {
   "codemirror_mode": {
    "name": "ipython",
    "version": 3
   },
   "file_extension": ".py",
   "mimetype": "text/x-python",
   "name": "python",
   "nbconvert_exporter": "python",
   "pygments_lexer": "ipython3",
   "version": "3.7.4"
  }
 },
 "nbformat": 4,
 "nbformat_minor": 4
}
